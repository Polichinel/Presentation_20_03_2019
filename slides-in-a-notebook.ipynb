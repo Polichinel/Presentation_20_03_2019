{
 "cells": [
  {
   "cell_type": "markdown",
   "metadata": {
    "slideshow": {
     "slide_type": "skip"
    }
   },
   "source": [
    "Run:\n",
    "\n",
    ">jupyter nbconvert slides-in-a-notebook.ipynb --to slides --post serve<\n",
    "\n",
    "to create slide in browser.\n",
    "\n",
    "Balkan aksed for:\n",
    "\"So I think the best way would be is not to go too technical but focus on why you chose this particular way to explore these questions and how you think about these models and their use. [...] What i really want is to have them a good sense of what a hands on experience with working with data is like. \""
   ]
  },
  {
   "cell_type": "markdown",
   "metadata": {
    "slideshow": {
     "slide_type": "slide"
    }
   },
   "source": [
    "# Conflict Prediction and Forecasting\n",
    "by Simon Polichinel von der Maase"
   ]
  },
  {
   "cell_type": "markdown",
   "metadata": {
    "slideshow": {
     "slide_type": "slide"
    }
   },
   "source": [
    "### Overview:"
   ]
  },
  {
   "cell_type": "markdown",
   "metadata": {
    "slideshow": {
     "slide_type": "fragment"
    }
   },
   "source": [
    "- Why should we predict conflict?"
   ]
  },
  {
   "cell_type": "markdown",
   "metadata": {
    "slideshow": {
     "slide_type": "fragment"
    }
   },
   "source": [
    "- What did I do?\n"
   ]
  },
  {
   "cell_type": "markdown",
   "metadata": {
    "slideshow": {
     "slide_type": "fragment"
    }
   },
   "source": [
    "    \n",
    "- What to be aware of\n",
    "    - Using the right data \n",
    "    - Using the right features/variables\n",
    "    - Using the right tools\n",
    "    - Using the right evaluations framework\n"
   ]
  },
  {
   "cell_type": "markdown",
   "metadata": {
    "slideshow": {
     "slide_type": "slide"
    }
   },
   "source": [
    "# Why should we predict conflict?"
   ]
  },
  {
   "cell_type": "markdown",
   "metadata": {
    "slideshow": {
     "slide_type": "slide"
    }
   },
   "source": [
    "#### Predicting conflicts is (ideally) about saving lifes.\n"
   ]
  },
  {
   "cell_type": "markdown",
   "metadata": {
    "slideshow": {
     "slide_type": "fragment"
    }
   },
   "source": [
    "- In the short run as a practical tool for mitigating the effect, magnitude and spread of conflict.\n"
   ]
  },
  {
   "cell_type": "markdown",
   "metadata": {
    "slideshow": {
     "slide_type": "fragment"
    }
   },
   "source": [
    "- In the long run a tool that can produce theoritical insights, which can then help us identify the underlying problems. "
   ]
  },
  {
   "cell_type": "markdown",
   "metadata": {
    "slideshow": {
     "slide_type": "fragment"
    }
   },
   "source": [
    "- With great power comes great responsibility"
   ]
  },
  {
   "cell_type": "markdown",
   "metadata": {
    "slideshow": {
     "slide_type": "slide"
    }
   },
   "source": [
    "\n",
    "## The usual tropes:"
   ]
  },
  {
   "cell_type": "markdown",
   "metadata": {
    "slideshow": {
     "slide_type": "fragment"
    }
   },
   "source": [
    "- Since the conclusion of the Second World War intra-state conflicts have been far more common than inter-state wars (Collier & Hoeffler 2004)\n",
    "\n"
   ]
  },
  {
   "cell_type": "markdown",
   "metadata": {
    "slideshow": {
     "slide_type": "fragment"
    }
   },
   "source": [
    "- Over five times as many people have died in intra-state conflicts compared to inter-state wars (Collier & Hoeffler 2004)\n",
    "\n"
   ]
  },
  {
   "cell_type": "markdown",
   "metadata": {
    "slideshow": {
     "slide_type": "fragment"
    }
   },
   "source": [
    "- Since 1960 over one half of all nations have experienced some sort of violent internal conflict leading to fatalities (Blattman & Miguel 2010)\n"
   ]
  },
  {
   "cell_type": "markdown",
   "metadata": {
    "slideshow": {
     "slide_type": "fragment"
    }
   },
   "source": [
    "- Ample example of spilover effects via poverty, refugees, militants, weapons ect.\n"
   ]
  },
  {
   "cell_type": "markdown",
   "metadata": {
    "slideshow": {
     "slide_type": "slide"
    }
   },
   "source": [
    "## Short story:\n",
    "\n",
    "#### Lots of lifes are being ruined = lots of lifes can be saved"
   ]
  },
  {
   "cell_type": "code",
   "execution_count": 16,
   "metadata": {
    "slideshow": {
     "slide_type": "fragment"
    }
   },
   "outputs": [
    {
     "data": {
      "text/html": [
       "<video width=\"800\" height=\"400\" controls>\n",
       "  <source src=\"test.mp4\" type=\"video/mp4\">\n",
       "</video>"
      ],
      "text/plain": [
       "<IPython.core.display.HTML object>"
      ]
     },
     "metadata": {},
     "output_type": "display_data"
    }
   ],
   "source": [
    "%%HTML\n",
    "<video width=\"800\" height=\"400\" controls>\n",
    "  <source src=\"test.mp4\" type=\"video/mp4\">\n",
    "</video>"
   ]
  },
  {
   "cell_type": "markdown",
   "metadata": {
    "slideshow": {
     "slide_type": "slide"
    }
   },
   "source": [
    "### Saving lifes is a decent thing to do if you have got the resources."
   ]
  },
  {
   "cell_type": "markdown",
   "metadata": {
    "slideshow": {
     "slide_type": "slide"
    }
   },
   "source": [
    "### Specifically:"
   ]
  },
  {
   "cell_type": "markdown",
   "metadata": {
    "slideshow": {
     "slide_type": "fragment"
    }
   },
   "source": [
    "- Reliable conflict forecasting will help Governments, NGO and other relavant parties, mitigate the magnitude and spread of conflict. \n"
   ]
  },
  {
   "cell_type": "markdown",
   "metadata": {
    "slideshow": {
     "slide_type": "fragment"
    }
   },
   "source": [
    "- Reliable conflict will **not** in it self remedy the fundamental problems causing internal conflicts. \n"
   ]
  },
  {
   "cell_type": "markdown",
   "metadata": {
    "slideshow": {
     "slide_type": "fragment"
    }
   },
   "source": [
    "\n",
    "- However, meny will argue that it is a stronger scientific framework than traditional estimation efforts. As such, it migth have the potential to generate deeper theoretical insigths which might be used to tackle fundamental problems. **Not uncontroversial**."
   ]
  },
  {
   "cell_type": "markdown",
   "metadata": {
    "slideshow": {
     "slide_type": "slide"
    }
   },
   "source": [
    "# What did I do?"
   ]
  },
  {
   "cell_type": "markdown",
   "metadata": {
    "slideshow": {
     "slide_type": "slide"
    }
   },
   "source": [
    "<img src=\"conflicts_2007-1.png\" width=\"700\">\n",
    "<img src=\"pred_prob_conflicts_2007_bayes-1.png\" width=\"700\">"
   ]
  },
  {
   "cell_type": "markdown",
   "metadata": {
    "slideshow": {
     "slide_type": "slide"
    }
   },
   "source": [
    "<img src=\"feature_imp-1.png\" width=\"600\">"
   ]
  },
  {
   "cell_type": "markdown",
   "metadata": {
    "slideshow": {
     "slide_type": "slide"
    }
   },
   "source": [
    "Paths going forward:\n",
    "![Text](thesis_focus1-1.png)"
   ]
  },
  {
   "cell_type": "markdown",
   "metadata": {
    "slideshow": {
     "slide_type": "slide"
    }
   },
   "source": [
    "# What to be aware of\n"
   ]
  },
  {
   "cell_type": "markdown",
   "metadata": {
    "slideshow": {
     "slide_type": "slide"
    }
   },
   "source": [
    "\n",
    "### Using the right data \n"
   ]
  },
  {
   "cell_type": "markdown",
   "metadata": {
    "slideshow": {
     "slide_type": "fragment"
    }
   },
   "source": [
    "- Use disaggregageted timeseires data if possible. \"If our theories are disaggregated, then our empirical analyses and research design should reflect this\" (Cederman & Gleditsch 2009)"
   ]
  },
  {
   "cell_type": "markdown",
   "metadata": {
    "slideshow": {
     "slide_type": "fragment"
    }
   },
   "source": [
    "\n",
    "- Think about the last entry of the data. Forecasting is difficult enough as it is and uncertainty grows rapidly after the last observation.\n"
   ]
  },
  {
   "cell_type": "markdown",
   "metadata": {
    "slideshow": {
     "slide_type": "fragment"
    }
   },
   "source": [
    "Toy-exemple of uncertainty in conflict forcasting:\n",
    "![Text](GP_toy_eks-1.png)"
   ]
  },
  {
   "cell_type": "markdown",
   "metadata": {
    "slideshow": {
     "slide_type": "slide"
    }
   },
   "source": [
    "\n",
    "### Using the right features/variables\n"
   ]
  },
  {
   "cell_type": "markdown",
   "metadata": {
    "slideshow": {
     "slide_type": "fragment"
    }
   },
   "source": [
    "- When you have your data  thinking is thoroughly required..\n",
    "    - The raw features from the data rarely represent the theoretically phenomenon (you reckon is) associated with conflict.\n"
   ]
  },
  {
   "cell_type": "markdown",
   "metadata": {
    "slideshow": {
     "slide_type": "fragment"
    }
   },
   "source": [
    "- This is important both in estimation and prediction; trying to emulate the data generation process. Be bold! (Popper). \n"
   ]
  },
  {
   "cell_type": "markdown",
   "metadata": {
    "slideshow": {
     "slide_type": "fragment"
    }
   },
   "source": [
    "- Bad exemples Collier and Hoeffler  vs. Fearon and Laitin"
   ]
  },
  {
   "cell_type": "markdown",
   "metadata": {
    "slideshow": {
     "slide_type": "fragment"
    }
   },
   "source": [
    "- Better exemple Cederman, Gleditich and Buhuag\n"
   ]
  },
  {
   "cell_type": "markdown",
   "metadata": {
    "slideshow": {
     "slide_type": "fragment"
    }
   },
   "source": [
    "Point: **overaggregated and poorly theorized proxies = bad**"
   ]
  },
  {
   "cell_type": "markdown",
   "metadata": {
    "slideshow": {
     "slide_type": "slide"
    }
   },
   "source": [
    "\n",
    "### Using the right tools \n"
   ]
  },
  {
   "cell_type": "markdown",
   "metadata": {
    "slideshow": {
     "slide_type": "fragment"
    }
   },
   "source": [
    "- Conflicts are rare events. Luckely for us as humans - a bit annoying for us as analyzists. \n"
   ]
  },
  {
   "cell_type": "markdown",
   "metadata": {
    "slideshow": {
     "slide_type": "fragment"
    }
   },
   "source": [
    "\n",
    "- There is a lot of data. This is good. But it also greatly increases the demands on our abilities, and forces us to work more interdisciplinarily.\n",
    "    - Check whether your ideas can be implimented early in the project! \n",
    "\n"
   ]
  },
  {
   "cell_type": "markdown",
   "metadata": {
    "slideshow": {
     "slide_type": "fragment"
    }
   },
   "source": [
    "\n",
    "- Interactions and (spatial/temporal) autocorrolations is rampet."
   ]
  },
  {
   "cell_type": "markdown",
   "metadata": {
    "slideshow": {
     "slide_type": "fragment"
    }
   },
   "source": [
    "**Point being:** If you do not know why you have choosen your framework it is most likely wrong. Use your imaginationand be creative. Do not be scared to try something new!"
   ]
  },
  {
   "cell_type": "markdown",
   "metadata": {
    "slideshow": {
     "slide_type": "slide"
    }
   },
   "source": [
    "\n",
    "### Usinge the right evaluation framework\n"
   ]
  },
  {
   "cell_type": "markdown",
   "metadata": {
    "slideshow": {
     "slide_type": "fragment"
    }
   },
   "source": [
    "- Just as we need the right tools we also need the rigth way of evaluating them"
   ]
  },
  {
   "cell_type": "markdown",
   "metadata": {
    "slideshow": {
     "slide_type": "fragment"
    }
   },
   "source": [
    "- Out of sample prediction is the crux of the matter"
   ]
  },
  {
   "cell_type": "markdown",
   "metadata": {
    "slideshow": {
     "slide_type": "fragment"
    }
   },
   "source": [
    "- Meny metrics to choose from - again thinking is required..."
   ]
  },
  {
   "cell_type": "markdown",
   "metadata": {
    "slideshow": {
     "slide_type": "slide"
    }
   },
   "source": [
    "### Keypoints:\n",
    "- Think about you data\n",
    "- Think about your features\n",
    "- Think about your predictive framework\n",
    "- Think about your evaluation\n",
    "- Bonus: use plots to check your data and features; espacially maps!\n",
    "\n",
    "# Questions?\n",
    "\n",
    "https://github.com/Polichinel"
   ]
  },
  {
   "cell_type": "markdown",
   "metadata": {
    "slideshow": {
     "slide_type": "notes"
    }
   },
   "source": [
    "** Futher notes added after presentation:\n",
    "\n",
    "\n",
    "PRIO_gird shape file at https://www.prio.org/Data/PRIO-GRID/ or dirrectly from file.prio.no/ReplicationData/PRIO-GRID/priogrid_shapefiles.zip\n",
    "\n",
    "PRIO variables from http://grid.prio.org/#/download'\n",
    "\n",
    "UCDP shapefile from https://www.ucdp.uu.se/downloads/#d1 or directly from http://ucdp.uu.se/downloads/ged/ged181-shp.zip But it seem you just need the CSV: https://www.ucdp.uu.se/downloads/#d1 or directly from http://ucdp.uu.se/downloads/ged/ged181-csv.zip. R have something similar.\n",
    "\n",
    "Note that you will have to aquire a bit of knowledge regarding shapefiles and geospatial data. But not much. In python I use the packed called \"geopandas\". It is straight forward: http://geopandas.org/. However, while the use of geopandas is relatively easy, installation can by tricky. Follow this step for startes http://geopandas.org/install.html, but if it does not work a search engine is your friend.\n",
    "\n",
    "You can get python and jupyter along some other tools in a bundle from https://www.anaconda.com/. Free of course.\n",
    "\n",
    "I mentioned two sources for learning python: https://www.youtube.com/user/sentdex and https://www.datacamp.com/. It can be hard to motivate yourself if you don't have a specific reason for going through these torturial, so I would highly recommend you to have you on small project on the side. Whenever you have concluded some torturial(s) see if you can utilize your new skills on your own data.\n",
    "\n",
    "For those interested in Bayesian statistiscs I will highly recommend to book \"Statistical Rethinking\" by Richard McEldrith. He also has very nice lectures on youtube https://www.youtube.com/channel/UCNJK6_DZvcMqNSzQdEkzvzA. Here uses R but python code pertianing his book can by found on: https://github.com/pymc-devs/resources/tree/master/Rethinking. I can't stress enough how much one can learn from this guy. Not regarding programming, but regarding how to think about your data your models and your problem. Even if you don't use the same tools as him going forward, his outlook on statistics can by applied with great results.\n",
    "\n",
    "I menttioned a paper which kick me down the rabits hole: \"A Global Model for Forecasting Political Instability\" by goldstone et al. 2010 (https://onlinelibrary.wiley.com/doi/abs/10.1111/j.1540-5907.2009.00426.x). The paper is by no means perfect but it is a nice progressive step away from traditional significans testing and contains reference to a lot of other nice articles.\n",
    "\n",
    "These two course from the economics department is also highly recomendable: \"Social Data Science\" and \"Topics in Solcial Data Science\". The course \"Political Data Science\" at the political Science department is also really good. They use R - but really learnign a bit of R makes a better python user and vica versa. Don't vorry to much about programming langue. As with normal langues learning one makes it much easier to learn one more.\n",
    "\n",
    "Feel free to browse and steal from my github: https://github.com/Polichinel or send me a mail at xpn381@alumni.ku.dk if you have futher questions.\n",
    "\n",
    "Good luck going forward and best regards\n",
    "\n",
    "Simon\n"
   ]
  }
 ],
 "metadata": {
  "celltoolbar": "Slideshow",
  "kernelspec": {
   "display_name": "Python 3",
   "language": "python",
   "name": "python3"
  },
  "language_info": {
   "codemirror_mode": {
    "name": "ipython",
    "version": 3
   },
   "file_extension": ".py",
   "mimetype": "text/x-python",
   "name": "python",
   "nbconvert_exporter": "python",
   "pygments_lexer": "ipython3",
   "version": "3.6.6"
  }
 },
 "nbformat": 4,
 "nbformat_minor": 2
}
